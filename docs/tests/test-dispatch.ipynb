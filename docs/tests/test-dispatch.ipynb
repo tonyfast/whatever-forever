{
 "cells": [
  {
   "cell_type": "code",
   "execution_count": 1,
   "metadata": {
    "collapsed": true
   },
   "outputs": [],
   "source": [
    "\"\"\"setup\"\"\"\n",
    "from whatever import *\n",
    "from toolz.curried import *\n",
    "from whatever.callables import Dispatch\n",
    "from collections import OrderedDict\n",
    "from typing import Callable, Any"
   ]
  },
  {
   "cell_type": "code",
   "execution_count": 2,
   "metadata": {
    "collapsed": true
   },
   "outputs": [],
   "source": [
    "\"\"\"test_subclass\"\"\"\n",
    "assert isinstance(Dispatch(), OrderedDict)\n",
    "assert isinstance(Dispatch(), Callable)"
   ]
  },
  {
   "cell_type": "code",
   "execution_count": 3,
   "metadata": {
    "collapsed": false
   },
   "outputs": [],
   "source": [
    "\"\"\"dict_input\"\"\"\n",
    "d = Dispatch({\n",
    "        int: int,\n",
    "        str: int,\n",
    "    })\n",
    "assert isinstance(d(\"0\"), int)\n",
    "assert isinstance(d(0), int)"
   ]
  },
  {
   "cell_type": "code",
   "execution_count": 4,
   "metadata": {
    "collapsed": false
   },
   "outputs": [],
   "source": [
    "\"\"\"list_input\"\"\"\n",
    "d = Dispatch([\n",
    "        [int, int],\n",
    "        [str, int],\n",
    "    ])\n",
    "assert isinstance(d(\"0\"), int)\n",
    "assert isinstance(d(0), int)"
   ]
  },
  {
   "cell_type": "code",
   "execution_count": 5,
   "metadata": {
    "collapsed": false
   },
   "outputs": [],
   "source": [
    "\"\"\"list_input\"\"\"\n",
    "d = Dispatch([\n",
    "        [type(None), lambda x: 'empty'],\n",
    "        [Any, lambda x: 'not empty'], # catch all\n",
    "    ])\n",
    "assert d(None) == 'empty'"
   ]
  },
  {
   "cell_type": "code",
   "execution_count": 6,
   "metadata": {
    "collapsed": true
   },
   "outputs": [],
   "source": [
    "\"\"\"list_input\"\"\"\n",
    "d = Dispatch([\n",
    "        [Any, lambda x: 'not empty'],\n",
    "        [type(None), lambda x: 'empty'],\n",
    "    ])\n",
    "assert d(None) == 'not empty'"
   ]
  },
  {
   "cell_type": "code",
   "execution_count": 7,
   "metadata": {
    "collapsed": false
   },
   "outputs": [],
   "source": [
    "\"\"\"test_arity\"\"\"\n",
    "d = Dispatch({\n",
    "        (str, int): lambda x, y: str(x) + str(y)\n",
    "    })\n",
    "assert d('test',1) == 'test1'"
   ]
  },
  {
   "cell_type": "code",
   "execution_count": 8,
   "metadata": {
    "collapsed": false
   },
   "outputs": [],
   "source": [
    "\"\"\"test_arity_multiclas\"\"\"\n",
    "d = Dispatch({\n",
    "        ((str, int,), int): lambda x, y: str(x) + str(y)\n",
    "    })\n",
    "assert d(10000,1) == ''.join([str(10000),str(1)])"
   ]
  },
  {
   "cell_type": "code",
   "execution_count": 10,
   "metadata": {
    "collapsed": false
   },
   "outputs": [
    {
     "data": {
      "text/plain": [
       "{'a': 'CAR', 'b': 0.2}"
      ]
     },
     "execution_count": 10,
     "metadata": {},
     "output_type": "execute_result"
    }
   ],
   "source": [
    "d = Dispatch({\n",
    "        str: str.upper,\n",
    "        int: lambda x: x/100,\n",
    "    })\n",
    "f = _x({\n",
    "        'a': 'car',\n",
    "        'b' : 20,\n",
    "    }) | valmap(d)\n",
    "assert f._() == {'a': 'CAR', 'b': 0.2}\n",
    "f.compute()"
   ]
  },
  {
   "cell_type": "code",
   "execution_count": 11,
   "metadata": {
    "collapsed": false
   },
   "outputs": [
    {
     "data": {
      "text/plain": [
       "{'a': 'CAR', 'b': 200}"
      ]
     },
     "execution_count": 11,
     "metadata": {},
     "output_type": "execute_result"
    }
   ],
   "source": [
    "d = Dispatch({\n",
    "        str: str.upper,\n",
    "        (int, int,): lambda x, y: x*y,\n",
    "    })\n",
    "f = _x({\n",
    "        'a': 'car',\n",
    "        'b' : [20, 10],\n",
    "    }) | valmap(lambda a: d(*a) if isinstance(a, list) else d(a))\n",
    "\n",
    "assert f._() == {'a': 'CAR', 'b': 200}\n",
    "f._()"
   ]
  }
 ],
 "metadata": {
  "anaconda-cloud": {},
  "kernelspec": {
   "display_name": "Python [Root]",
   "language": "python",
   "name": "Python [Root]"
  },
  "language_info": {
   "codemirror_mode": {
    "name": "ipython",
    "version": 3
   },
   "file_extension": ".py",
   "mimetype": "text/x-python",
   "name": "python",
   "nbconvert_exporter": "python",
   "pygments_lexer": "ipython3",
   "version": "3.5.2"
  }
 },
 "nbformat": 4,
 "nbformat_minor": 0
}
