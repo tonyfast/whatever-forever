{
 "cells": [
  {
   "cell_type": "code",
   "execution_count": 2,
   "metadata": {
    "collapsed": true
   },
   "outputs": [],
   "source": [
    "from collections import OrderedDict\n",
    "from toolz.curried import flip, juxt, map, partial, pipe, valmap\n",
    "from types import LambdaType\n",
    "from typing import Iterable, Any\n",
    "\n",
    "__all__ = [\n",
    "    'Dispatch', 'DictCallable', 'TupleCallable', 'ListCallable', 'SetCallable'\n",
    "]"
   ]
  },
  {
   "cell_type": "code",
   "execution_count": 6,
   "metadata": {
    "collapsed": true
   },
   "outputs": [],
   "source": [
    "class DictCallable(dict):\n",
    "    def __call__(self, *args, **kwargs):\n",
    "        return valmap(\n",
    "            lambda x: x(*args, **kwargs) if callable(x) else x, self\n",
    "        )"
   ]
  },
  {
   "cell_type": "code",
   "execution_count": 5,
   "metadata": {
    "collapsed": false
   },
   "outputs": [],
   "source": [
    "class Condictional(OrderedDict):\n",
    "    \"\"\"First key to satisfy the key condition executes.\n",
    "    \"\"\"\n",
    "    def key(self, x, *args, **kwargs)->bool:\n",
    "        return x(*args, **kwargs)\n",
    "\n",
    "    def __init__(self, args=[], default=None, key=None):\n",
    "        super().__init__(args)\n",
    "        self.default = default\n",
    "        if key:\n",
    "            self.key = key\n",
    "\n",
    "    def __call__(self, *args, **kwargs):\n",
    "        for key, value in self.items():\n",
    "            if self.key(key, *args, **kwargs):\n",
    "                return value(*args, **kwargs)\n",
    "        if self.default:\n",
    "            return self.default(*args, **kwargs)\n",
    "        raise KeyError(\n",
    "            \"No conditions satisfied for types: \" + args.__str__())"
   ]
  },
  {
   "cell_type": "code",
   "execution_count": 27,
   "metadata": {
    "collapsed": false
   },
   "outputs": [],
   "source": [
    "class Dispatch(Condictional):\n",
    "    \"\"\"An object that provides multiple dispatch when it is called.\n",
    "    \"\"\"\n",
    "    def key(self, key, *args, **kwargs):\n",
    "        if not isinstance(key, Iterable):\n",
    "            key = tuple([key])\n",
    "        if len(args) == len(key):\n",
    "            return all(\n",
    "                isinstance(arg, types) for arg, types in zip(args, key)\n",
    "                if isinstance(types, Iterable) or types != Any\n",
    "            )\n",
    "        return False\n",
    "\n",
    "    def __init__(self, args=[], default=None):\n",
    "        super().__init__(args)\n",
    "        self.default = default"
   ]
  },
  {
   "cell_type": "code",
   "execution_count": 5,
   "metadata": {
    "collapsed": true
   },
   "outputs": [],
   "source": [
    "class ListCallable(list):\n",
    "    def __call__(self, *args, **kwargs):\n",
    "        return list(juxt(*self)(\n",
    "            *args, **kwargs\n",
    "        ))"
   ]
  },
  {
   "cell_type": "code",
   "execution_count": 6,
   "metadata": {
    "collapsed": true
   },
   "outputs": [],
   "source": [
    "class SetCallable(set):\n",
    "    def __call__(self, *args, **kwargs):\n",
    "        if pipe(self, map(\n",
    "                partial(flip(isinstance), LambdaType)\n",
    "        ), any):\n",
    "            raise TypeError(\"Cannot interpolate a LambdaType.\")\n",
    "\n",
    "        return pipe(\n",
    "            zip(\n",
    "                self, list(map(lambda x: x(*args, **kwargs), self))\n",
    "            ), list, dict\n",
    "        )\n"
   ]
  },
  {
   "cell_type": "code",
   "execution_count": 7,
   "metadata": {
    "collapsed": true
   },
   "outputs": [],
   "source": [
    "class TupleCallable(tuple):\n",
    "    def __call__(self, *args, **kwargs):\n",
    "        return juxt(*self)(\n",
    "            *args, **kwargs\n",
    "        )"
   ]
  }
 ],
 "metadata": {
  "anaconda-cloud": {
   "environment": null,
   "summary": "Iterable functions",
   "url": "https://anaconda.org/tonyfast/callables"
  },
  "kernelspec": {
   "display_name": "Python [Root]",
   "language": "python",
   "name": "Python [Root]"
  },
  "language_info": {
   "codemirror_mode": {
    "name": "ipython",
    "version": 3
   },
   "file_extension": ".py",
   "mimetype": "text/x-python",
   "name": "python",
   "nbconvert_exporter": "python",
   "pygments_lexer": "ipython3",
   "version": "3.5.2"
  }
 },
 "nbformat": 4,
 "nbformat_minor": 0
}
