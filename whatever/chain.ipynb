{
 "cells": [
  {
   "cell_type": "code",
   "execution_count": 1,
   "metadata": {
    "collapsed": false
   },
   "outputs": [],
   "source": [
    "from whatever.callables import (\n",
    "    SetCallable, TupleCallable, ListCallable, DictCallable, Dispatch\n",
    ")\n",
    "import builtins\n",
    "from joblib import Parallel, delayed\n",
    "import operator \n",
    "import toolz.curried\n",
    "from toolz.curried import (\n",
    "    complement, compose, filter, \n",
    "    first, identity, juxt, map, partial, \n",
    "    peek, pipe, merge, last, second, valfilter, keyfilter\n",
    ")\n",
    "from typing import Any, Callable, Iterable\n",
    "\n",
    "__all__ = ['chain', 'Chain', '_x', '__x', '__p', '_this', 'compose']"
   ]
  },
  {
   "cell_type": "code",
   "execution_count": 2,
   "metadata": {
    "collapsed": false
   },
   "outputs": [],
   "source": [
    "def evaluate(args, kwargs, fn):\n",
    "    \"\"\"Evaluates `fn` with the `args` and `kwargs` as unique arguments.\n",
    "    \"\"\"\n",
    "    return fn(*args, **kwargs)\n",
    "\n",
    "class ComposerBase(object):\n",
    "    def __init__(\n",
    "        self, **kwargs\n",
    "    ):\n",
    "        self.attrs = pipe(\n",
    "            self.imports\n",
    "            , reversed,\n",
    "            map(vars), merge, keyfilter(\n",
    "                compose(str.islower, first),\n",
    "            ),valfilter(callable),\n",
    "        )\n",
    "        self.attrs.update(\n",
    "            \n",
    "        )\n",
    "    \n",
    "class DefaultComposer(ComposerBase):\n",
    "    imports = [\n",
    "        toolz.curried, builtins, operator\n",
    "    ]\n",
    "\n",
    "    def item(self, item):\n",
    "        return item\n",
    "    \n",
    "    def attr(self, item):\n",
    "        return self.attrs.get(item)\n",
    "    \n",
    "    def call(self, tokens, *args, **kwargs):\n",
    "        tokens[-1][1:] = args, kwargs\n",
    "        return tokens\n",
    "    \n",
    "    def composer(self, tokens):\n",
    "        return compose(*pipe(\n",
    "            tokens, reversed, filter(first), map(\n",
    "                lambda arg: partial(arg[0], *arg[1], **arg[2]) \n",
    "                    if any(arg[1:]) else arg[0]\n",
    "            ), list\n",
    "        ))"
   ]
  },
  {
   "cell_type": "code",
   "execution_count": 3,
   "metadata": {
    "collapsed": true
   },
   "outputs": [],
   "source": [
    "class ChainBase(object):\n",
    "    \n",
    "    def compute(self, fn, *args, **kwargs):                \n",
    "        # If any new arguments have been supplied then use them        \n",
    "        return fn(*args, **kwargs)\n",
    "    \n",
    "    def __dir__(self):\n",
    "        return super().__dir__() + self._dir\n",
    "    \n",
    "    def _tokenize(self, composer, attr):\n",
    "        attr = composer(attr)\n",
    "        if (\n",
    "            not isinstance(attr, Callable) and \n",
    "            isinstance(attr, Iterable) and \n",
    "            isinstance(peek(attr), Iterable)\n",
    "        ):\n",
    "            return attr\n",
    "        return [[attr, [], ()]]\n"
   ]
  },
  {
   "cell_type": "code",
   "execution_count": 4,
   "metadata": {
    "collapsed": false
   },
   "outputs": [],
   "source": [
    "class Chain(ChainBase): \n",
    "    _composer = DefaultComposer()\n",
    "    _dir = []\n",
    "    \n",
    "    def __init__(self, *args, **kwargs):        \n",
    "        # Tokens record function, arguments, and keywork arguments.\n",
    "        self._tokens = []\n",
    "        \n",
    "        # Default context to evaluate the chain.\n",
    "        self._args, self._kwargs = args, kwargs\n",
    "                \n",
    "    def compute(self, *args, **kwargs)->[Any, None]:\n",
    "        \"\"\"Compose and evaluate the function.\n",
    "        \"\"\"\n",
    "        return super().compute(\n",
    "            self.compose, *args, **kwargs\n",
    "        )\n",
    "            \n",
    "    def __getattr__(self, attr):\n",
    "        \"\"\"Apply the attribute getter\n",
    "        \"\"\"\n",
    "        self._tokens.extend(\n",
    "            self._tokenize(self._composer.attr, attr)\n",
    "        )\n",
    "        return self\n",
    "    \n",
    "    def __getitem__(self, item):\n",
    "        \"\"\"Any function in the item can be tokenized.\n",
    "        \"\"\"\n",
    "        self._tokens.extend(\n",
    "            self._tokenize(self._composer.item, item)\n",
    "        )\n",
    "\n",
    "        return self\n",
    "    \n",
    "    def __call__(self, *args, **kwargs):\n",
    "        self._tokens = self._composer.call(\n",
    "            self._tokens, *args, **kwargs\n",
    "        )\n",
    "        return self\n",
    "    \n",
    "    def copy(self, klass=None):\n",
    "        \"\"\"Create a new instance of the current chain.\n",
    "        \"\"\"\n",
    "        chain = (\n",
    "            klass if klass else self.__class__\n",
    "        )(*self._args, **self._kwargs)\n",
    "        chain._tokens = self._tokens.copy()\n",
    "        return chain\n",
    "    \n",
    "    @property\n",
    "    def compose(self):\n",
    "        return self._composer.composer(self._tokens)\n",
    "    \n",
    "    def __dir__(self):\n",
    "        return super().__dir__() \\\n",
    "            + list(self._composer.attrs.keys())"
   ]
  },
  {
   "cell_type": "code",
   "execution_count": 5,
   "metadata": {
    "collapsed": false
   },
   "outputs": [],
   "source": [
    "class chain(Chain):\n",
    "    def __repr__(self):\n",
    "        if self._args or self._kwargs:\n",
    "            return self.compute(\n",
    "                *self._args, **self._kwargs,\n",
    "            ).__repr__()\n",
    "        func = self.compose\n",
    "        return '\\n'.join([\n",
    "            str(func.first),\n",
    "            func.funcs.__repr__(),\n",
    "        ])"
   ]
  },
  {
   "cell_type": "code",
   "execution_count": 6,
   "metadata": {
    "collapsed": false
   },
   "outputs": [],
   "source": [
    "class SugarComposer(DefaultComposer):    \n",
    "    multiple_dispatch = Dispatch([\n",
    "        [Callable, identity],\n",
    "        [set, SetCallable],\n",
    "        [list, ListCallable],                \n",
    "        [tuple, TupleCallable],                                \n",
    "        [dict, DictCallable],\n",
    "        [Any, identity],])\n",
    "    \n",
    "    def item(self, item):\n",
    "        return self.multiple_dispatch(item)    \n",
    "    \n",
    "    def call(self, tokens, *args, **kwargs):\n",
    "        if pipe(tokens, last, first) is map:\n",
    "            if kwargs and not args: \n",
    "                args = [kwargs]\n",
    "            return super().call(\n",
    "                tokens, pipe(\n",
    "                    args, first, self.item,\n",
    "                ),\n",
    "            )\n",
    "        return super().call(tokens, *args, **kwargs)"
   ]
  },
  {
   "cell_type": "code",
   "execution_count": 7,
   "metadata": {
    "collapsed": true
   },
   "outputs": [],
   "source": [
    "class LiterateAPI(chain):\n",
    "    def __init__(self, *args, **kwargs):\n",
    "        super().__init__(*args, **kwargs)\n",
    "        _len = pipe(\n",
    "            self.__class__.__name__,\n",
    "            map(str.isalnum),\n",
    "            list,\n",
    "            lambda x: x.index(True),\n",
    "        )\n",
    "        setattr( self, '_'*_len, self.compute)"
   ]
  },
  {
   "cell_type": "code",
   "execution_count": 8,
   "metadata": {
    "collapsed": false
   },
   "outputs": [],
   "source": [
    "def juxtapose(func, x): \n",
    "    return juxt(*func)(x)\n",
    "\n",
    "class _x(LiterateAPI):\n",
    "    \"\"\"Initialize a chain delimited with single underscores.\n",
    "    \"\"\"\n",
    "    _composer = SugarComposer()\n",
    "        \n",
    "    def __or__(self, f):\n",
    "        \"\"\"Extend the current chain.\n",
    "        \"\"\"\n",
    "        return self.copy()[f]\n",
    "\n",
    "    def __gt__(self, f)->[compose, Any]:\n",
    "        \"\"\"Extend and evaluate the chain.\n",
    "        \"\"\"\n",
    "        if f is compose:\n",
    "            # return toolz.compose\n",
    "            return self.compose\n",
    "        \n",
    "        return self.copy()[f].compute()\n",
    "    \n",
    "    def compute(self, *args, **kwargs):\n",
    "        if not(args or kwargs):\n",
    "            args, kwargs = self._args, self._kwargs\n",
    "        return super().compute(*args, **kwargs)\n",
    "\n",
    "    def __mul__(self, f):\n",
    "        \"\"\"Apply a map function.\n",
    "        \"\"\"\n",
    "        return self.copy().map(\n",
    "            self._composer.item(f)\n",
    "        )\n",
    "        \n",
    "    def __add__(self, f):\n",
    "        \"\"\"Filter values that are true.\n",
    "        \"\"\"\n",
    "        return self.copy().filter(\n",
    "            self._composer.item(f)\n",
    "        )"
   ]
  },
  {
   "cell_type": "code",
   "execution_count": 9,
   "metadata": {
    "collapsed": false
   },
   "outputs": [],
   "source": [
    "class __x(_x): \n",
    "    def _(self, *args, **kwargs):\n",
    "        raise AttributeError(\n",
    "            \"Compose this function using a dunder - __\"\n",
    "        )"
   ]
  },
  {
   "cell_type": "code",
   "execution_count": 10,
   "metadata": {
    "collapsed": false
   },
   "outputs": [],
   "source": [
    "def getitem(item, obj): \n",
    "    return obj[item]\n",
    "\n",
    "def getattr_(item, obj):\n",
    "    return getattr(obj, item)\n",
    "\n",
    "class ThisComposer(DefaultComposer): \n",
    "    def item(self, item):\n",
    "        return [[getitem, [item], {}]]\n",
    "    \n",
    "    def attr(self, item):\n",
    "        return [[getattr_, [item], {}]]\n",
    "    \n",
    "    def call(self, tokens, *args, **kwargs):\n",
    "        \"\"\"Add args and kwargs to the tokens.\n",
    "        \"\"\"\n",
    "        tokens.append([evaluate, [args, kwargs], {}])\n",
    "        return tokens"
   ]
  },
  {
   "cell_type": "code",
   "execution_count": 11,
   "metadata": {
    "collapsed": false
   },
   "outputs": [],
   "source": [
    "class _this(_x): \n",
    "    \"\"\"A chain object to access attributes and items.   Converts to \n",
    "    a chain when copied\n",
    "    \"\"\"\n",
    "    _composer = ThisComposer()\n",
    "    \n",
    "    def __init__(self, arg=None,):\n",
    "        \"\"\"Accepts one input argument.\n",
    "        \"\"\"\n",
    "        super().__init__(arg)\n",
    "    \n",
    "    @property\n",
    "    def __dir__(self): \n",
    "        return super().__dir__() + pipe(self._args, first).__dir__\n",
    "    \n",
    "    def copy(self, klass=_x):\n",
    "        \"\"\"A new chain beginning with the current chain tokens and argument.\n",
    "        \"\"\"\n",
    "        chain = super().copy()\n",
    "        new_chain = klass(chain._args[0])\n",
    "        new_chain._tokens = [[\n",
    "                chain.compose, [], {},\n",
    "            ]]\n",
    "        return new_chain\n",
    "    \n",
    "    def __repr__(self):\n",
    "        self._tokens = pipe(\n",
    "            self._tokens, filter(\n",
    "                compose(complement(\n",
    "                    lambda s: s.startswith('_ipython') or\n",
    "                        s.startswith('_repr') if isinstance(s, str) else s,\n",
    "                ), first, second,)\n",
    "            ), list\n",
    "        )\n",
    "        return super().__repr__()"
   ]
  },
  {
   "cell_type": "code",
   "execution_count": 12,
   "metadata": {
    "collapsed": true
   },
   "outputs": [],
   "source": [
    "class ParallelComposer(SugarComposer):\n",
    "    def __init__(self, n_jobs=4):\n",
    "        self.n_jobs=n_jobs\n",
    "    \n",
    "    def composer(self, tokens, **kwargs):\n",
    "        rekey=[]\n",
    "        for i, token in enumerate(tokens):\n",
    "            token = [token]\n",
    "            if first(token[0]) is map:\n",
    "                token[0][1] = [\n",
    "                    delayed(token[0][1][0])\n",
    "                ]\n",
    "                token.append([\n",
    "                        Parallel(n_jobs=self.n_jobs), [], {}\n",
    "                    ])\n",
    "            rekey.extend(token)\n",
    "        return super().composer(rekey)"
   ]
  },
  {
   "cell_type": "code",
   "execution_count": 13,
   "metadata": {
    "collapsed": true
   },
   "outputs": [],
   "source": [
    "class __p(__x):\n",
    "    def __init__(self, *args, n_jobs=1, **kwargs):\n",
    "        self._composer = ParallelComposer(\n",
    "            n_jobs=n_jobs\n",
    "        )\n",
    "        super().__init__(*args, **kwargs)"
   ]
  }
 ],
 "metadata": {
  "anaconda-cloud": {},
  "kernelspec": {
   "display_name": "Python [Root]",
   "language": "python",
   "name": "Python [Root]"
  },
  "language_info": {
   "codemirror_mode": {
    "name": "ipython",
    "version": 3
   },
   "file_extension": ".py",
   "mimetype": "text/x-python",
   "name": "python",
   "nbconvert_exporter": "python",
   "pygments_lexer": "ipython3",
   "version": "3.5.2"
  }
 },
 "nbformat": 4,
 "nbformat_minor": 0
}
